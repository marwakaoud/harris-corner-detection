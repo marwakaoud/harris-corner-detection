{
 "cells": [
  {
   "cell_type": "code",
   "execution_count": 2,
   "metadata": {
    "collapsed": true
   },
   "outputs": [],
   "source": [
    "import cv2\n",
    "import matplotlib\n",
    "import matplotlib.pyplot as plt\n",
    "import numpy as np\n",
    "import skimage\n",
    "from skimage import filters\n",
    "from skimage import io\n",
    "%matplotlib inline\n",
    "\n"
   ]
  },
  {
   "cell_type": "code",
   "execution_count": 2,
   "metadata": {
    "collapsed": true
   },
   "outputs": [],
   "source": [
    "\n"
   ]
  },
  {
   "cell_type": "code",
   "execution_count": 2,
   "metadata": {
    "collapsed": true
   },
   "outputs": [],
   "source": [
    "#edge detection\n",
    "import cv2\n",
    "import matplotlib.pyplot as plt\n",
    "import numpy as np\n",
    "img = cv2.imread(\"lady.png\",1)\n",
    "#kerneeeeeeeeeeeeeeeeeeeeeeeeeeel\n",
    "edgekernel=np.ones((3,3),dtype=int)\n",
    "\n",
    "dilate=cv2.dilate(img,edgekernel,iterations=1)\n",
    "erude=cv2.erode(img,edgekernel,iterations=1)\n",
    "output=cv2.subtract(dilate,erude)\n",
    "#cv2.imshow(\"mero1\",output)\n",
    "#cv2.waitKey(2)\n"
   ]
  },
  {
   "cell_type": "code",
   "execution_count": 4,
   "metadata": {
    "collapsed": false
   },
   "outputs": [
    {
     "name": "stdout",
     "output_type": "stream",
     "text": [
      "31\n"
     ]
    },
    {
     "data": {
      "text/plain": [
       "-1"
      ]
     },
     "execution_count": 32,
     "metadata": {},
     "output_type": "execute_result"
    }
   ],
   "source": [
    "#noise reduction\n",
    "noised_image=cv2.imread(\"Cameraman.png\",1)\n",
    "noise_erude=cv2.erode(noised_image,edgekernel,iterations=2)\n",
    "#cameraman_erode=cv2.imshow(\"mero2\",noise_erude)\n",
    "#cv2.waitKey(2)\n"
   ]
  },
  {
   "cell_type": "code",
   "execution_count": null,
   "metadata": {
    "collapsed": false
   },
   "outputs": [],
   "source": [
    "#detecting and labeling circles\n",
    "cirlces=cv2.imread(\"circles.PNG\",0)\n",
    "output = cv2.connectedComponentsWithStats(cirlces)\n",
    "print(output[0])\n",
    "font = cv2.FONT_HERSHEY_SIMPLEX\n",
    "for i in range(len(output[3])):\n",
    "    cv2.putText(cirlces,str(i),(int(output[3][i][0]),int(output[3][i][1])), font,0.5,(128,0,0),2,cv2.LINE_AA)\n",
    "cv2.imshow(\"lll\",cirlces) \n",
    "cv2.waitKey()\n"
   ]
  },
  {
   "cell_type": "code",
   "execution_count": null,
   "metadata": {
    "collapsed": false
   },
   "outputs": [],
   "source": [
    "#detecting and labeling lines\n"
   ]
  },
  {
   "cell_type": "code",
   "execution_count": 7,
   "metadata": {},
   "outputs": [],
   "source": [
    "def sharpen(image, a, b, sigma=10): \n",
    "    blurred = skimage.filters.gaussian(image, sigma=sigma, multichannel=True)\n",
    "    sharper = np.clip(image * a - blurred * b, 0, 1.0)\n",
    "    return sharper"
   ]
  },
  {
   "cell_type": "code",
   "execution_count": 65,
   "metadata": {},
   "outputs": [
    {
     "name": "stdout",
     "output_type": "stream",
     "text": [
      "[38 25 33]\n"
     ]
    },
    {
     "data": {
      "text/plain": [
       "-1"
      ]
     },
     "execution_count": 65,
     "metadata": {},
     "output_type": "execute_result"
    }
   ],
   "source": [
    "morning=cv2.imread(\"morning.jpg\",1)\n",
    "evening=cv2.imread(\"evening.jpg\",1)\n",
    "required=evening[0,0]\n",
    "print(required)\n",
    "\n",
    "high=np.array([255,255,255])\n",
    "low=np.array([190,190,190])\n",
    "mask = cv2.inRange(morning, low, high)\n",
    "morning[mask>0]=required\n",
    "cv2.imshow(\"yarab\",morning)\n",
    "cv2.waitKey()\n"
   ]
  },
  {
   "cell_type": "code",
   "execution_count": null,
   "metadata": {},
   "outputs": [],
   "source": [
    "#coins\n",
    "coins=cv2.imread(\"coins.png\",1)\n",
    "cimg = cv2.cvtColor(coins,cv2.COLOR_GRAY2BGR)\n",
    "circles = cv2.HoughCircles(coins,cv2.HOUGH_GRADIENT,1,20,param1=50,param2=30,minRadius=0,maxRadius=0)\n",
    "circles = np.uint16(np.around(circles))\n",
    "\n",
    "for i in circles[0,:]:\n",
    "    # draw the outer circle\n",
    "    cv2.circle(cimg,(i[0],i[1]),i[2],(0,255,0),2)\n",
    "    # draw the center of the circle\n",
    "    cv2.circle(cimg,(i[0],i[1]),2,(0,0,255),3)\n",
    "    \n",
    "plt.subplot(121),plt.imshow(rgb_img)\n",
    "plt.title('Input Image'), plt.xticks([]), plt.yticks([])\n",
    "plt.subplot(122),plt.imshow(cimg)\n",
    "plt.title('Hough Transform'), plt.xticks([]), plt.yticks([])                                                                                                                                                                                                                                                                                                                                                   plt.show()   \n"
   ]
  },
  {
   "cell_type": "code",
   "execution_count": null,
   "metadata": {},
   "outputs": [],
   "source": [
    "\n"
   ]
  }
 ],
 "metadata": {
  "kernelspec": {
   "display_name": "Python 2",
   "language": "python",
   "name": "python2"
  },
  "language_info": {
   "codemirror_mode": {
    "name": "ipython",
    "version": 2
   },
   "file_extension": ".py",
   "mimetype": "text/x-python",
   "name": "python",
   "nbconvert_exporter": "python",
   "pygments_lexer": "ipython2",
   "version": "2.7.6"
  }
 },
 "nbformat": 4,
 "nbformat_minor": 0
}
