{
 "cells": [
  {
   "cell_type": "code",
   "execution_count": null,
   "metadata": {
    "collapsed": true
   },
   "outputs": [],
   "source": [
    "import matplotlib.pyplot as plt\n",
    "from skimage.color import rgb2gray\n",
    "from skimage.io import imread\n"
   ]
  },
  {
   "cell_type": "code",
   "execution_count": 5,
   "metadata": {
    "collapsed": true
   },
   "outputs": [
    {
     "data": {
      "image/png": "[encoded data removed]",
      "text/plain": [
       "<Figure size 432x288 with 1 Axes>"
      ]
     },
     "metadata": {},
     "output_type": "display_data"
    }
   ],
   "source": [
    "img = imread('images.png')\n",
    "imggray = rgb2gray(img)\n",
    "plt.imshow(imggray, cmap=\"gray\")\n",
    "plt.axis(\"off\")\n",
    "plt.show()\n"
   ]
  },
  {
   "cell_type": "code",
   "execution_count": 15,
   "metadata": {},
   "outputs": [
    {
     "name": "stdout",
     "output_type": "stream",
     "text": [
      "(224, 225)\n"
     ]
    }
   ],
   "source": [
    "from scipy import signal as sig\n",
    "import numpy as np\n",
    "\n",
    "#finding the gradient in both x and y direction     \n",
    "def gradient_x(imggray):\n",
    "    ##Sobel operator kernels.\n",
    "    kernel_x = np.array([[-1, 0, 1], [-2, 0, 2], [-1, 0, 1]])\n",
    "    return sig.convolve2d(imggray, kernel_x, mode='same')\n",
    "def gradient_y(imggray):\n",
    "    kernel_y = np.array([[1, 2, 1], [0, 0, 0], [-1, -2, -1]])\n",
    "    return sig.convolve2d(imggray, kernel_y, mode='same')\n",
    "\n",
    "I_x = gradient_x(imggray)\n",
    "I_y = gradient_y(imggray)\n",
    "Ixx = I_x ** 2\n",
    "Ixy = I_y * I_x\n",
    "Iyy = I_y ** 2\n",
    "print(imggray.shape)\n"
   ]
  },
  {
   "cell_type": "code",
   "execution_count": 17,
   "metadata": {},
   "outputs": [],
   "source": [
    "#kernel \n",
    "k = 0.05\n",
    "height, width = imggray.shape\n",
    "harris_response = []\n",
    "window_size = 6\n",
    "offset =int( window_size/2)\n",
    "print (height,width,window_size,offset,height-offset)"
   ]
  },
  {
   "cell_type": "code",
   "execution_count": null,
   "metadata": {},
   "outputs": [],
   "source": [
    "#looking for corners append them to haris reponse array\n",
    "#r is the variable determines if this a corner or not\n",
    "for y in range(offset, height-offset):\n",
    "    for x in range(offset, width-offset):\n",
    "        Sxx = np.sum(Ixx[y-offset:y+1+offset, x-offset:x+1+offset])\n",
    "        Syy = np.sum(Iyy[y-offset:y+1+offset, x-offset:x+1+offset])\n",
    "        Sxy = np.sum(Ixy[y-offset:y+1+offset, x-offset:x+1+offset])\n",
    "        \n",
    "        #Find determinant and trace, use to get corner response\n",
    "        det = (Sxx * Syy) - (Sxy**2)\n",
    "        trace = Sxx + Syy\n",
    "        r = det - k*(trace**2)\n",
    "        \n",
    "        harris_response.append([x,y, r])\n"
   ]
  },
  {
   "cell_type": "code",
   "execution_count": null,
   "metadata": {},
   "outputs": [
    {
     "data": {
      "image/png": "[encoded data removed]",
      "text/plain": [
       "<Figure size 432x288 with 1 Axes>"
      ]
     },
     "metadata": {},
     "output_type": "display_data"
    }
   ],
   "source": [
    "output = np.copy(img)\n",
    "#if r>0 this is a corner\n",
    "for response in harris_response:\n",
    "    x, y, r = response\n",
    "    if r > 0:\n",
    "        #colouring the corneres\n",
    "        output[y,x] = [255,0,0]\n",
    "\n",
    "        \n",
    "plt.imshow(output)\n",
    "plt.show()"
   ]
  },
  {
   "cell_type": "code",
   "execution_count": null,
   "metadata": {},
   "outputs": [],
   "source": []
  }
 ],
 "metadata": {
  "kernelspec": {
   "display_name": "Python 2",
   "language": "python",
   "name": "python2"
  },
  "language_info": {
   "codemirror_mode": {
    "name": "ipython",
    "version": 2
   },
   "file_extension": ".py",
   "mimetype": "text/x-python",
   "name": "python",
   "nbconvert_exporter": "python",
   "pygments_lexer": "ipython2",
   "version": "2.7.6"
  }
 },
 "nbformat": 4,
 "nbformat_minor": 0
}
